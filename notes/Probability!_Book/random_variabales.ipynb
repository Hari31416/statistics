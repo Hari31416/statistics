{
 "cells": [
  {
   "cell_type": "markdown",
   "metadata": {},
   "source": [
    "# Imports"
   ]
  },
  {
   "cell_type": "code",
   "execution_count": 1,
   "metadata": {},
   "outputs": [],
   "source": [
    "import numpy as np\n",
    "import pandas as pd\n",
    "import matplotlib.pyplot as plt"
   ]
  },
  {
   "cell_type": "markdown",
   "metadata": {},
   "source": [
    "# Random Variables"
   ]
  },
  {
   "cell_type": "markdown",
   "metadata": {},
   "source": [
    "## Introduction"
   ]
  },
  {
   "cell_type": "markdown",
   "metadata": {},
   "source": [
    "A random variable is a numerical description of the outcome of a statistical experiment. Perhaps the best way to start thinking about a random variable is as a sort of machine that randomly spits out numbers. Consider a function $f(x) = 2x$. The behavior of the output of this function is very well-defined and completely certain (or deterministic, as mentioned above): whatever you plug in, you get twice that value back (plug in 5, get 10, etc.). Unlike a function, the output of a random variable has uncertainty; we’re never as sure as we are with the function (although the output follows some distribution, or structured pattern, which we will get to later). It’s essentially a machine that spits out random outputs, but often with certain specific characteristics."
   ]
  },
  {
   "cell_type": "markdown",
   "metadata": {},
   "source": [
    "An example of a random variable is the number you get when you roll a die. The outcome of this experiment is a number from 1 to 6, but we don’t know which number we’ll get until we roll the die. We usually use uppercase letter, like $X$ or $Y$, to denote a random variable. We use lowercase letters, like $x$ or $y$, to denote a specific outcome of a random variable. For example, if we roll a die, $X$ is the random variable that represents the outcome of the roll, and $x$ is a specific outcome, like 3."
   ]
  },
  {
   "cell_type": "markdown",
   "metadata": {},
   "source": [
    "## Properties of Random Variables"
   ]
  },
  {
   "cell_type": "markdown",
   "metadata": {},
   "source": [
    "### Distribution"
   ]
  },
  {
   "cell_type": "markdown",
   "metadata": {},
   "source": [
    "Distribution is the pattern of the random variable. We will discuss this in more detail later."
   ]
  },
  {
   "cell_type": "markdown",
   "metadata": {},
   "source": [
    "### Expectation"
   ]
  },
  {
   "cell_type": "markdown",
   "metadata": {},
   "source": [
    "The expectation of a random variable $E(X)$ is the _average_ value of the random variable. For example, if we roll a die, the expectation of the random variable $X$ is $E(X) = \\frac{1}{6}(1 + 2 + 3 + 4 + 5 + 6) = 3.5$. Note that the expectation is not necessarily a value that the random variable can take on. For example, if we roll a die, the expectation is 3.5, but we can’t actually roll a 3.5."
   ]
  },
  {
   "cell_type": "markdown",
   "metadata": {},
   "source": [
    "Mathematically, expectation is defined as follows:\n",
    "\n",
    "$$E(X) = \\sum_{x} xP(X = x)$$\n",
    "\n",
    "where $x$ is a specific outcome of the random variable $X$, and $P(X = x)$ is the probability that $X$ takes on the value $x$."
   ]
  },
  {
   "cell_type": "markdown",
   "metadata": {},
   "source": [
    "Expectation is a linear operator, which means that if $a$ and $b$ are constants, then\n",
    "\n",
    "$$E(aX + b) = aE(X) + b$$\n",
    "\n",
    "Also:\n",
    "\n",
    "$$E(aX + bY) = E(aX) + E(bY)$$\n",
    "\n",
    "Note that $X$ and $Y$ can be any arbitrary random variables."
   ]
  },
  {
   "cell_type": "markdown",
   "metadata": {},
   "source": [
    "Moreover, if the random variables $X$ and $Y$ are independent, then\n",
    "\n",
    "$$E(XY) = E(X)E(Y)$$"
   ]
  },
  {
   "cell_type": "markdown",
   "metadata": {},
   "source": [
    "### Variance"
   ]
  },
  {
   "cell_type": "markdown",
   "metadata": {},
   "source": [
    "As the name overtly suggests, this describes how much spread is inherent in a certain random variable, and is notated as $Var(X)$. For example, if we roll a die, the variance of the random variable $X$ is $Var(X) = \\frac{1}{6}((1 - 3.5)^2 + (2 - 3.5)^2 + (3 - 3.5)^2 + (4 - 3.5)^2 + (5 - 3.5)^2 + (6 - 3.5)^2) = 2.92$. "
   ]
  },
  {
   "cell_type": "markdown",
   "metadata": {},
   "source": [
    "There are two ways to calculate the variance of a random variable. The first is to use the formula:\n",
    "\n",
    "$$Var(X) = E((X - E(X))^2)$$\n",
    "\n",
    "Which means that we take the difference between each outcome of the random variable and the expectation, square it, and then take the expectation of that. The second way is to use the formula:\n",
    "\n",
    "$$Var(X) = E(X^2) - E(X)^2$$\n",
    "\n",
    "Which means that we take the expectation of the square of the random variable, and then subtract the square of the expectation. Note that the second formula is often easier to use."
   ]
  },
  {
   "cell_type": "markdown",
   "metadata": {},
   "source": [
    "We can easily get the second formula from the first one. To see how, define $\\mu = E(X)$. Now, we can write:\n",
    "\n",
    "$$Var(X) = E((X - \\mu)^2)$$\n",
    "\n",
    "squaring:\n",
    "\n",
    "$$Var(X) = E(X^2 - 2\\mu X + \\mu^2)$$\n",
    "\n",
    "distributing:\n",
    "\n",
    "$$Var(X) = E(X^2) - 2\\mu E(X) + \\mu^2E(1)$$\n",
    "\n",
    "since $\\mu$ is a constant, we can take it out of the expectation:\n",
    "\n",
    "$$Var(X) = E(X^2) - 2\\mu^2 + \\mu^2$$\n",
    "\n",
    "simplifying:\n",
    "\n",
    "$$Var(X) = E(X^2) - \\mu^2$$"
   ]
  },
  {
   "cell_type": "markdown",
   "metadata": {},
   "source": [
    "The variance of shifted and scaled random variables is:\n",
    "\n",
    "$$Var(aX + b) = a^2Var(X)$$"
   ]
  },
  {
   "cell_type": "markdown",
   "metadata": {},
   "source": [
    "Meaning that if we shift a random variable by $b$ and scale it by $a$, the variance is scaled by $a^2$. No changes is occured due to shifting."
   ]
  },
  {
   "cell_type": "markdown",
   "metadata": {},
   "source": [
    "As for the sum, linearity does not hold for variance. However, if $X$ and $Y$ are independent, then:\n",
    "\n",
    "$$Var(X + Y) = Var(X) + Var(Y)$$\n",
    "\n",
    "In fact, for any number of random variables, if they are just pairwise independent, they need not be independent, then:\n",
    "\n",
    "$$Var(X_1 + X_2 + \\dots + X_n) = Var(X_1) + Var(X_2) + \\dots + Var(X_n)$$"
   ]
  },
  {
   "cell_type": "markdown",
   "metadata": {},
   "source": [
    "### Standard Deviation"
   ]
  },
  {
   "cell_type": "markdown",
   "metadata": {},
   "source": [
    "The standard deviation of a random variable is the square root of the variance, and is notated as $SD(X)$. We can see that shifting the random variable does not change the standard deviation. Scaling scales the standard deviation by the same amount:\n",
    "\n",
    "$$SD(aX + b) = |a|SD(X)$$"
   ]
  },
  {
   "cell_type": "markdown",
   "metadata": {},
   "source": [
    "> See this [PDF](https://ocw.mit.edu/courses/6-042j-mathematics-for-computer-science-fall-2005/6ad0342f836f80c219470870db432c18_ln14.pdf) for the detail about expectation, variance and standard deviation."
   ]
  },
  {
   "cell_type": "markdown",
   "metadata": {},
   "source": [
    "### PMFs and CDFs"
   ]
  },
  {
   "cell_type": "markdown",
   "metadata": {},
   "source": [
    "Random variables have probability mass functions, or PMFs (for discrete random variables), and probability density functions, or PDFs (for continuous random variables). For the moment, we will only focus on the former: the PMF gives the probability that the random variable takes on a certain value. Usually this is denoted as $P(X = x)$, where $x$ is a specific value of the random variable. For example, if we roll a die, $P(X = 3) = \\frac{1}{6}$."
   ]
  },
  {
   "cell_type": "markdown",
   "metadata": {},
   "source": [
    "> For continuous random variables, the probability that the random variable takes on a specific value is 0. This is because there are an infinite number of possible values that the random variable can take on, so the probability that it takes on a specific value is $\\frac{1}{\\infty}$, which is 0. Instead, we use the probability density function, or PDF, which gives the probability that the random variable takes on a value in a certain range."
   ]
  },
  {
   "cell_type": "markdown",
   "metadata": {},
   "source": [
    "The cumulative density function, or CDF, gives the probability that the random variable takes on a value less than or equal to a certain value. Usually this is denoted as $P(X \\leq x)$, where $x$ is a specific value of the random variable. For example, if we roll a die, $P(X \\leq 3) = \\frac{1}{2}$."
   ]
  },
  {
   "cell_type": "markdown",
   "metadata": {},
   "source": [
    "### Support"
   ]
  },
  {
   "cell_type": "markdown",
   "metadata": {},
   "source": [
    "The support of a distribution is simply the set of possible values that the random variable can take on. For example, if we roll a die, the support of the random variable $X$ is $\\{1, 2, 3, 4, 5, 6\\}$."
   ]
  },
  {
   "cell_type": "markdown",
   "metadata": {},
   "source": [
    "### Calculating Expectation and Variance"
   ]
  },
  {
   "cell_type": "markdown",
   "metadata": {},
   "source": [
    "The general formula for the expectation value is given by:\n",
    "\n",
    "$$E(X) = \\sum_{x \\in \\text{support}} xP(X = x)$$\n",
    "\n",
    "This is basically a weighted average of the values in the support, where the weights are given by the probabilities of the random variable taking on those values. For example, if we roll a die, $E(X) = \\frac{1}{6}(1 + 2 + 3 + 4 + 5 + 6) = 3.5$."
   ]
  },
  {
   "cell_type": "markdown",
   "metadata": {},
   "source": [
    "Variance is given by:\n",
    "\n",
    "$$\n",
    "Var(X) =  \\sum\\limits_{i} (x_i - E(X))^2P(X=x_i)\n",
    "$$\n",
    "\n",
    "So, the variance is the sum of the distances from the mean, squared, with all of these values weighted by the probability that each value/outcome occurs. The standard deviation is the square root of the variance."
   ]
  },
  {
   "cell_type": "markdown",
   "metadata": {},
   "source": [
    "The variance can also be calculated as:\n",
    "\n",
    "$$\n",
    "Var(X) = E(X^2) - E(X)^2\n",
    "$$"
   ]
  },
  {
   "cell_type": "markdown",
   "metadata": {},
   "source": [
    ">Each distribution has a **Story**. Beyond all of the math, what really makes these distributions interesting is a summary of what is actually going on in plain english; what kind of random process is occurring. "
   ]
  },
  {
   "cell_type": "markdown",
   "metadata": {},
   "source": [
    "### Memorylessness"
   ]
  },
  {
   "cell_type": "markdown",
   "metadata": {},
   "source": [
    "To understand it, consider an example: say you are waiting on line to buy a ticket to a concert. The line is very long, and you are getting impatient. You know that the average time it takes for each person to buy a ticket is 5 minutes. You have already been waiting for 10 minutes. How much longer do you expect to wait? The memorylessness property says that you will still have to wait an average of 5 minutes. The fact that you have already waited 10 minutes is irrelevant. The random variable that describes the amount of time you will have to wait is memoryless."
   ]
  },
  {
   "cell_type": "markdown",
   "metadata": {},
   "source": [
    "What it essentially means that we have:\n",
    "\n",
    "$$\n",
    "P(X \\geq n + k | X \\geq n) = P(X \\geq k)\n",
    "$$"
   ]
  },
  {
   "cell_type": "markdown",
   "metadata": {},
   "source": [
    "# Discrete Random Variables"
   ]
  },
  {
   "cell_type": "markdown",
   "metadata": {},
   "source": [
    "## Bernoulli Random Variable"
   ]
  },
  {
   "cell_type": "markdown",
   "metadata": {},
   "source": [
    "**Story:** What you would expect: one trial with a probability of success $p$ and failure $1-p$.\n",
    "\n",
    "**Representation:** $X \\sim Bern(p)$\n",
    "\n",
    "**Support:** $\\{0, 1\\}$\n",
    "\n",
    "**PMF:** $P(X = x) = p^x(1-p)^{1-x}$\n",
    "\n",
    "**CDF:** $P(X \\leq x) = 1 - (1-p)^{1-x}$\n",
    "\n",
    "**Expectation:** $E(X) = p$\n",
    "\n",
    "**Variance:** $Var(X) = p(1-p)$"
   ]
  },
  {
   "cell_type": "markdown",
   "metadata": {},
   "source": [
    "An example is a coin flip, where $p$ is the probability of getting heads."
   ]
  },
  {
   "cell_type": "markdown",
   "metadata": {},
   "source": [
    "## Binomial Random Variables"
   ]
  },
  {
   "cell_type": "markdown",
   "metadata": {},
   "source": [
    "**Story:** We perform $n$ independent trials, each with probability $p$ of success that remains constant from trial to trial. The random variable $X$ is the number of successes in $n$ trials.\n",
    "\n",
    "**Representation:** $X \\sim Bin(n, p)$\n",
    "\n",
    "**Support:** $\\{0, 1, 2, ..., n\\}$\n",
    "\n",
    "**PMF:** $P(X = x) = \\binom{n}{x}p^x(1-p)^{n-x}$\n",
    "\n",
    "**CDF:** $P(X \\leq x) = \\sum_{i=0}^x \\binom{n}{i}p^i(1-p)^{n-i}$\n",
    "\n",
    "**Expectation:** $E(X) = np$\n",
    "\n",
    "**Variance:** $Var(X) = np(1-p)$"
   ]
  },
  {
   "cell_type": "markdown",
   "metadata": {},
   "source": [
    "An example is the number of heads in $n$ coin flips, where $p$ is the probability of getting heads. The probability that exactly 3 heads occur in the 5 flips is\n",
    "\n",
    "$$P(X = 3) = \\binom{5}{3}p^3(1-p)^{2}$$\n",
    "\n",
    "with $p = 0.5$, we get:\n",
    "\n",
    "$$P(X = 3) = \\binom{5}{3}0.5^3(1-0.5)^{2} = 0.3125$$"
   ]
  },
  {
   "cell_type": "markdown",
   "metadata": {},
   "source": [
    "### Geometric Random Variables"
   ]
  },
  {
   "cell_type": "markdown",
   "metadata": {},
   "source": [
    "**Story:** We perform independent trials, each with probability $p$ of success that remains constant from trial to trial, until we get our first success. The random variable $X$ is the number of trials until the first success.\n",
    "\n",
    "**Representation:** $X \\sim Geom(p)$\n",
    "\n",
    "**Support:** $\\{1, 2, 3, ...\\}$\n",
    "\n",
    "**PMF:** $P(X = x) = (1-p)^{x-1}p$\n",
    "\n",
    "**CDF:** $P(X \\leq x) = 1 - (1-p)^x$\n",
    "\n",
    "**Expectation:** $E(X) = \\frac{1}{p}$\n",
    "\n",
    "**Variance:** $Var(X) = \\frac{1-p}{p^2}$"
   ]
  },
  {
   "cell_type": "markdown",
   "metadata": {},
   "source": [
    "Note that there is another definition of the geometric random variable, where $Y$ is the number of failures until the first success. In this case, the support is $\\{0, 1, 2, ...\\}$, and the PMF is $P(Y = y) = (1-p)^yp$. The expectation is $E(Y) = \\frac{1-p}{p}$, and the variance is $Var(Y) = \\frac{1-p}{p^2}$. See [here](https://en.wikipedia.org/wiki/Geometric_distribution) for more details. These two variables are related by $X = Y + 1$."
   ]
  },
  {
   "cell_type": "markdown",
   "metadata": {},
   "source": [
    "> Sometimes, the geometric random variable defines by $X$ is called the _First Success_ random variable or shifted geometric random variable."
   ]
  },
  {
   "cell_type": "markdown",
   "metadata": {},
   "source": [
    "An example is the number of coin flips until the first heads, where $p$ is the probability of getting heads. The probability that exactly 3 flips are needed is\n",
    "\n",
    "$$P(X = 3) = (1-0.5)^{3-1}0.5 = 0.25$$"
   ]
  },
  {
   "cell_type": "markdown",
   "metadata": {},
   "source": [
    "### Negative Binomial Random Variables"
   ]
  },
  {
   "cell_type": "markdown",
   "metadata": {},
   "source": [
    "**Story:** We perform independent trials, each with probability $p$ of success that remains constant from trial to trial, until we get our $r^{th}$ success. The random variable $X$ is the number of failures until the $r^{th}$ success.\n",
    "\n",
    "**Representation:** $X \\sim NB(r, p)$\n",
    "\n",
    "**Support:** $\\{0, 1, 2, ...\\}$\n",
    "\n",
    "**PMF:** $P(X = x) = {x + r - 1 \\choose r -1}p^r(1-p)^x$\n",
    "\n",
    "**CDF:** $P(X \\leq x) = I_{1-p}(r, 1 + x)$\n",
    "\n",
    "**Expectation:** $E(X) = \\frac{r(1-p)}{p}$\n",
    "\n",
    "**Variance:** $Var(X) = \\frac{r(1-p)}{p^2}$"
   ]
  },
  {
   "cell_type": "markdown",
   "metadata": {},
   "source": [
    ">We see that the variance and expectations are similar to the geometric random variable, but multiplied by $r$. This makes sense, because we are waiting for $r$ successes instead of just 1."
   ]
  },
  {
   "cell_type": "markdown",
   "metadata": {},
   "source": [
    "An example is the number of coin flips until the 3rd heads, where $p$ is the probability of getting heads."
   ]
  },
  {
   "cell_type": "markdown",
   "metadata": {},
   "source": [
    "### Poisson Random Variables"
   ]
  },
  {
   "cell_type": "markdown",
   "metadata": {},
   "source": [
    "**Story:** If we have many chances at success (i.e., many trials), each with a very small probability of success, then we can use the Poisson random variable to describe the number of successes. The random variable $X$ is the number of successes in a unit of time (or space).\n",
    "\n",
    "**Representation:** $X \\sim Pois(\\lambda)$\n",
    "\n",
    "**Support:** $\\{0, 1, 2, ...\\}$\n",
    "\n",
    "**PMF:** $P(X = x) = \\frac{\\lambda^xe^{-\\lambda}}{x!}$\n",
    "\n",
    "**CDF:** $P(X \\leq x) = e^{-\\lambda}\\sum_{i=0}^x \\frac{\\lambda^i}{i!}$\n",
    "\n",
    "**Expectation:** $E(X) = \\lambda$\n",
    "\n",
    "**Variance:** $Var(X) = \\lambda$"
   ]
  },
  {
   "cell_type": "markdown",
   "metadata": {},
   "source": [
    "An example is the number of people who visit a website in a given minute, where $\\lambda$ is the average number of visitors per minute."
   ]
  },
  {
   "cell_type": "markdown",
   "metadata": {},
   "source": [
    "### Hypergeometric Random Variables"
   ]
  },
  {
   "cell_type": "markdown",
   "metadata": {},
   "source": [
    "**Story:** We have a population of size $N$, with $K$ successes and $N-K$ failures. We perform $n$ trials without replacement. The random variable $X$ is the number of successes in $n$ trials.\n",
    "\n",
    "**Representation:** $X \\sim HGeom(N, K, n)$\n",
    "\n",
    "**Support:** $\\{0, 1, 2, ..., n\\}$\n",
    "\n",
    "**PMF:** $P(X = x) = \\frac{{K \\choose x}{N-K \\choose n-x}}{{N \\choose n}}$\n",
    "\n",
    "**Expectation:** $E(X) = \\frac{nK}{N}$\n",
    "\n",
    "**Variance:** $Var(X) = \\frac{nK(N-K)(N-n)}{N^2(N-1)}$"
   ]
  },
  {
   "cell_type": "markdown",
   "metadata": {},
   "source": [
    "# Continuous Random Variables"
   ]
  },
  {
   "cell_type": "markdown",
   "metadata": {},
   "source": [
    "## Note on Density Functions"
   ]
  },
  {
   "cell_type": "markdown",
   "metadata": {},
   "source": [
    "Since a continuous random variable can take on an infinite number of values, the probability that it takes on a specific value is 0. This is because there are an infinite number of possible values that the random variable can take on, so the probability that it takes on a specific value is $\\frac{1}{\\infty}$, which is 0. Instead, we use the probability density function, or PDF, which gives the probability that the random variable takes on a value in a certain range. The probability that the random variable takes on a specific value is 0, but the probability that it takes on a value in a certain range is not 0."
   ]
  },
  {
   "cell_type": "markdown",
   "metadata": {},
   "source": [
    "So, officially, we say that a random variable has a PDF $p(x)$ and CDF $F(x)$ such that for any two numbers $a$ and $b$ with $a < b$,\n",
    "\n",
    "$$F(b) - F(a) = P(a < X < b) = \\int_a^b p(x)dx$$\n"
   ]
  },
  {
   "cell_type": "markdown",
   "metadata": {},
   "source": [
    "## LoTUS"
   ]
  },
  {
   "cell_type": "markdown",
   "metadata": {},
   "source": [
    "LoTUS, or “Law of The Unthinking Statistician,” is an extremely useful tool to calculate the expectation of a function of a random variable. It states that:\n",
    "\n",
    "$$E(g(X)) = \\int_{-\\infty}^{\\infty} g(x)f(x)dx$$\n",
    "\n",
    "where $f(x)$ is the PDF of the random variable $X$. Note that this is very similar to the definition of expectation, except that we are multiplying by $g(x)$ before integrating.\n",
    "\n",
    "What it means is that we can calculate the expectation of a function of a random variable by multiplying the function by the PDF and integrating. For example, if $X$ is a continuous random variable with PDF $f(x)$, then:\n",
    "\n",
    "$$E(X^2) = \\int_{-\\infty}^{\\infty} x^2f(x)dx$$\n"
   ]
  },
  {
   "cell_type": "markdown",
   "metadata": {},
   "source": [
    "Using this, the expectation of a random variable can be calculated as:\n",
    "\n",
    "$$E(X) = \\int_{-\\infty}^{\\infty} xf(x)dx$$"
   ]
  },
  {
   "cell_type": "markdown",
   "metadata": {},
   "source": [
    "## Uniform Random Variables"
   ]
  },
  {
   "cell_type": "markdown",
   "metadata": {},
   "source": [
    "**Story:** The uniform random variable is the simplest continuous random variable. It has a constant probability density function, and all values in the support range are equally likely to occur.\n",
    "\n",
    "**Representation:** $X \\sim Unif(a, b)$\n",
    "\n",
    "**Support:** $\\{a, b\\}$\n",
    "\n",
    "**PDF:** $f(x) = \\frac{1}{b-a}$\n",
    "\n",
    "**CDF:** $F(x) = \\frac{x-a}{b-a}$\n",
    "\n",
    "**Expectation:** $E(X) = \\frac{a+b}{2}$\n",
    "\n",
    "**Variance:** $Var(X) = \\frac{(b-a)^2}{12}$"
   ]
  },
  {
   "cell_type": "markdown",
   "metadata": {},
   "source": [
    "> If $a = 0$ and $b = 1$, then the random variable is called the standard uniform random variable, and is denoted as $X \\sim Unif(0, 1)$."
   ]
  },
  {
   "cell_type": "markdown",
   "metadata": {},
   "source": [
    "### Universality of the Uniform"
   ]
  },
  {
   "cell_type": "markdown",
   "metadata": {},
   "source": [
    "The universality of uniform is two statements. Let use discuss the first one:"
   ]
  },
  {
   "cell_type": "markdown",
   "metadata": {},
   "source": [
    "The universality of uniform lets you create any random variable with given CDF $F(x)$. Let us define $U$ as the standard uniform random variable. The theorem goes that if you plug $U$into the inverse CDF, then that new random variable, will be distributed according to the original CDF. Mathematically, this is:\n",
    "\n",
    "$$X = F^{-1}(U) \\sim F(x)$$\n",
    "\n",
    "where $F^{-1}(x)$ is the inverse CDF of $F(x)$. The only requirements for this to work is that $F(x)$ is a valid CDF, that is, it must be non-decreasing, continuous, and satisfy $\\lim_{x \\to -\\infty} F(x) = 0$ and $\\lim_{x \\to \\infty} F(x) = 1$."
   ]
  },
  {
   "cell_type": "markdown",
   "metadata": {},
   "source": [
    "To understand how this works, note that $F$ is nothing but $P(X \\leq x)$. So, $F^{-1}(x)$ is the value of $x$ such that $P(X \\leq x) = x$. Now, let $Y = F^{-1}(U)$. Then:\n",
    "\n",
    "$$P(Y \\leq y) = P(F^{-1}(U) \\leq y) = P(U \\leq F(y)) = F(y)$$\n",
    "\n",
    "where the first equality is by definition of $Y$, the second equality is because $F^{-1}(x)$ is the value of $x$ such that $P(X \\leq x) = x$, and the third equality is because $U$ is a standard uniform random variable, so $P(U \\leq u) = u$."
   ]
  },
  {
   "cell_type": "markdown",
   "metadata": {},
   "source": [
    ">The bottom line here is that if you start with any CDF you want (provided it’s increasing and continuous), then plug in $U$ to the inverse CDF, you have just created a random variable that follows the original CDF."
   ]
  },
  {
   "cell_type": "markdown",
   "metadata": {},
   "source": [
    "For an example, consider an CDF $F(x) = 1 - e^{-x}$. To get a random variable with this CDF, we need to invert the CDF to get $F^{-1}(x) = -\\ln(1-x)$. Now, we plug in $U$ to get $Y = -\\ln(1-U)$. This is a random variable with CDF $F(x) = 1 - e^{-x}$. \n",
    "\n",
    "To get the inverse, we follow:\n",
    "\n",
    "$$\n",
    "\\begin{align*}\n",
    "F(x) &= 1 - e^{-x} \\\\\n",
    "1 - F(x) &= e^{-x} \\\\\n",
    "-\\ln(1 - F(x)) &= x\n",
    "\\end{align*}\n",
    "$$\n",
    "\n",
    "Then, we plug in $U$ to get:\n",
    "\n",
    "$$\n",
    "Y = -\\ln(1 - U)\n",
    "$$\n",
    "\n",
    "which is a random variable with CDF $F(x) = 1 - e^{-x}$. Let us test it by simulating."
   ]
  },
  {
   "cell_type": "code",
   "execution_count": 4,
   "metadata": {},
   "outputs": [
    {
     "data": {
      "image/png": "[encoded data removed]",
      "text/plain": [
       "<Figure size 1000x500 with 2 Axes>"
      ]
     },
     "metadata": {},
     "output_type": "display_data"
    }
   ],
   "source": [
    "exp_distrition = np.random.exponential(scale=1.0, size=1000) # The original CDF corresponds to exponential distribution\n",
    "uniform_distrition = np.random.uniform(low=0.0, high=1.0, size=1000)\n",
    "\n",
    "def func_to_use(x):\n",
    "    return - np.log(1-x)\n",
    "\n",
    "exp_with_uniform = func_to_use(uniform_distrition)\n",
    "\n",
    "fig, ax = plt.subplots(1, 2, figsize=(10, 5))\n",
    "ax[0].hist(exp_distrition, bins=50)\n",
    "ax[1].hist(exp_with_uniform, bins=50)\n",
    "ax[0].set_title('Exponential distribution')\n",
    "ax[1].set_title('Exponential distribution with uniform distribution')\n",
    "\n",
    "plt.show()"
   ]
  },
  {
   "cell_type": "markdown",
   "metadata": {},
   "source": [
    "We can see that the simulated values are very close to the theoretical values."
   ]
  },
  {
   "cell_type": "markdown",
   "metadata": {},
   "source": [
    "The second result says something pretty similar, but essentially going in the opposite direction: given a random variable $X$ with CDF $F(x)$, the random variable $Y = F(X)$ is a standard uniform random variable. Mathematically, this is:\n",
    "\n",
    "$$Y = F(X) \\sim Unif(0, 1)$$"
   ]
  },
  {
   "cell_type": "markdown",
   "metadata": {},
   "source": [
    "## Normal Random Variables"
   ]
  },
  {
   "cell_type": "markdown",
   "metadata": {},
   "source": [
    "**Story:** You can always think of it as the bell curve that appears when you add up a bunch of random variables. This is the most important distribution in all of statistics.\n",
    "\n",
    "**Representation:** $X \\sim N(\\mu, \\sigma^2)$\n",
    "\n",
    "**Support:** $(-\\infty, \\infty)$\n",
    "\n",
    "**PDF:** $f(x) = \\frac{1}{\\sqrt{2\\pi\\sigma^2}}e^{-\\frac{(x-\\mu)^2}{2\\sigma^2}}$\n",
    "\n",
    "**CDF:** $F(x) = \\frac{1}{\\sqrt{2\\pi\\sigma^2}}\\int_{-\\infty}^x e^{-\\frac{(t-\\mu)^2}{2\\sigma^2}}dt$\n",
    "\n",
    "**Expectation:** $E(X) = \\mu$\n",
    "\n",
    "**Variance:** $Var(X) = \\sigma^2$\n",
    "\n",
    "> The normal distribution is also called the Gaussian distribution."
   ]
  },
  {
   "cell_type": "markdown",
   "metadata": {},
   "source": [
    "### Standard Normal Random Variables"
   ]
  },
  {
   "cell_type": "markdown",
   "metadata": {},
   "source": [
    "A normal random variable with mean 0 and variance 1 is called the standard normal random variable, and is denoted as $Z \\sim N(0, 1)$. The PDF of the standard normal random variable is denoted as $\\phi(x)$, and the CDF is denoted as $\\Phi(x)$."
   ]
  },
  {
   "cell_type": "markdown",
   "metadata": {},
   "source": [
    "We can convert any normal distribution to the standard normal distribution by using the following formula:\n",
    "\n",
    "$$Z = \\frac{X - \\mu}{\\sigma}$$\n",
    "\n",
    "where $X$ is a normal random variable with mean $\\mu$ and variance $\\sigma^2$. This is called standardizing the normal random variable. We can use the inverse of this formula to convert a standard normal random variable to a normal random variable with mean $\\mu$ and variance $\\sigma^2$:\n",
    "\n",
    "$$X = \\sigma Z + \\mu$$"
   ]
  },
  {
   "cell_type": "markdown",
   "metadata": {},
   "source": [
    "## Exponential Random Variables"
   ]
  },
  {
   "cell_type": "markdown",
   "metadata": {},
   "source": [
    "**Story:** The exponential random variable is the continuous analogue of the geometric random variable. It describes the amount of time until a specific event occurs.\n",
    "\n",
    "**Representation:** $X \\sim Exp(\\lambda)$\n",
    "\n",
    "**Support:** $[0, \\infty)$\n",
    "\n",
    "**PDF:** $f(x) = \\lambda e^{-\\lambda x}$\n",
    "\n",
    "**CDF:** $F(x) = 1 - e^{-\\lambda x}$\n",
    "\n",
    "**Expectation:** $E(X) = \\frac{1}{\\lambda}$\n",
    "\n",
    "**Variance:** $Var(X) = \\frac{1}{\\lambda^2}$"
   ]
  },
  {
   "cell_type": "markdown",
   "metadata": {},
   "source": [
    "### Scaling an Exponential"
   ]
  },
  {
   "cell_type": "markdown",
   "metadata": {},
   "source": [
    "If we scale an exponential random variable by a constant $c$, then the rate parameter becomes $\\lambda/c$. For example, if $X \\sim Exp(2)$, then $2X \\sim Exp(1)$."
   ]
  },
  {
   "cell_type": "markdown",
   "metadata": {},
   "source": [
    "### Minimum of Exponentials"
   ]
  },
  {
   "cell_type": "markdown",
   "metadata": {},
   "source": [
    "Let $X_1, X_2, ..., X_n$ be independent exponential random variables with rates $\\lambda_1, \\lambda_2, ..., \\lambda_n$. Then, the minimum of these random variables, $Y = \\min(X_1, X_2, ..., X_n)$, is also an exponential random variable, with rate $\\lambda_1 + \\lambda_2 + ... + \\lambda_n$. Mathematically, this is:\n",
    "\n",
    "$$Y = \\min(X_1, X_2, ..., X_n) \\sim Exp(\\lambda_1 + \\lambda_2 + ... + \\lambda_n)$$"
   ]
  },
  {
   "cell_type": "markdown",
   "metadata": {},
   "source": [
    "### Memorylessness of the Exponential"
   ]
  },
  {
   "cell_type": "markdown",
   "metadata": {},
   "source": [
    "The exponential random variable is the only continuous memoryless random variable. This means that if $X$ is an exponential random variable, then for any numbers $s$ and $t$,\n",
    "\n",
    "$$P(X \\ge s + t | X \\ge s) = P(X \\ge t)$$"
   ]
  },
  {
   "cell_type": "markdown",
   "metadata": {},
   "source": [
    "We can easily prrove this by using the definition of conditional probability:\n",
    "\n",
    "$$\n",
    "\\begin{align*}\n",
    "P(X \\ge s + t | X \\ge s) &= \\frac{P(X \\ge s + t \\cap X \\ge s)}{P(X \\ge s)} \\\\\n",
    "&= \\frac{P(X \\ge s + t)}{P(X \\ge s)} \\\\\n",
    "&= \\frac{e^{-\\lambda(s+t)}}{e^{-\\lambda s}} \\\\\n",
    "&= e^{-\\lambda t} \\\\\n",
    "&= P(X \\ge t)\n",
    "\\end{align*}\n",
    "$$"
   ]
  }
 ],
 "metadata": {
  "kernelspec": {
   "display_name": "data-science",
   "language": "python",
   "name": "python3"
  },
  "language_info": {
   "codemirror_mode": {
    "name": "ipython",
    "version": 3
   },
   "file_extension": ".py",
   "mimetype": "text/x-python",
   "name": "python",
   "nbconvert_exporter": "python",
   "pygments_lexer": "ipython3",
   "version": "3.9.15"
  }
 },
 "nbformat": 4,
 "nbformat_minor": 2
}
