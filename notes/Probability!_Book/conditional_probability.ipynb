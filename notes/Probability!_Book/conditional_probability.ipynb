{
 "cells": [
  {
   "cell_type": "markdown",
   "metadata": {},
   "source": [
    "# Conditional Probability"
   ]
  },
  {
   "cell_type": "markdown",
   "metadata": {},
   "source": [
    "We define $P(A|B)$ as the probability of event $A$ given that event $B$ has occurred, that is:\n",
    "\n",
    "$$P(A|B) = \\frac{P(A \\cap B)}{P(B)}$$"
   ]
  },
  {
   "cell_type": "markdown",
   "metadata": {},
   "source": [
    "> Not that $P(A \\cap B)$ is the probability of both $A$ and $B$ occurring."
   ]
  },
  {
   "cell_type": "markdown",
   "metadata": {},
   "source": [
    "## Law of Total Probability"
   ]
  },
  {
   "cell_type": "markdown",
   "metadata": {},
   "source": [
    "For two events $A$ and $B$, the law of total probability states that:\n",
    "\n",
    "$$\n",
    "P(A) = P(A|B)P(B) + P(A|B^c)P(B^c)\n",
    "$$\n",
    "\n",
    "We are simply parsing down A into two cases: when B occurs and when B does not occur. We take the conditional probabilities of each case, and then weight them by the probability that we are in that space, $P(B)\n",
    "$ and $P(B^c)$."
   ]
  },
  {
   "cell_type": "markdown",
   "metadata": {},
   "source": [
    "## Bayes’ Rule"
   ]
  },
  {
   "cell_type": "markdown",
   "metadata": {},
   "source": [
    "Bayes’ rule provided a relationship between $P(A|B)$ and $P(B|A)$:\n",
    "\n",
    "$$\n",
    "P(A|B) = \\frac{P(B|A)P(A)}{P(B)}\n",
    "$$\n",
    "\n",
    "Using the law of total probability, we can rewrite the denominator as:\n",
    "\n",
    "$$\n",
    "P(B) = P(B|A)P(A) + P(B|A^c)P(A^c)\n",
    "$$\n",
    "\n",
    "And thus, Bayes’ rule can be rewritten as:\n",
    "\n",
    "$$\n",
    "P(A|B) = \\frac{P(B|A)P(A)}{P(B|A)P(A) + P(B|A^c)P(A^c)}\n",
    "$$"
   ]
  },
  {
   "cell_type": "markdown",
   "metadata": {},
   "source": [
    "## Union of Events"
   ]
  },
  {
   "cell_type": "markdown",
   "metadata": {},
   "source": [
    "If we’re interested in finding the probability of a union, the simplest form (where we have two sets) is:\n",
    "\n",
    "$$\n",
    "P(A \\cup B) = P(A) + P(B) - P(A \\cap B)\n",
    "$$"
   ]
  },
  {
   "cell_type": "markdown",
   "metadata": {},
   "source": [
    "For three events, we will have:\n",
    "\n",
    "$$\n",
    "P(A \\cup B \\cup C) = P(A) + P(B) + P(C) - P(A \\cap B) - P(A \\cap C) - P(B \\cap C) + P(A \\cap B \\cap C)\n",
    "$$"
   ]
  },
  {
   "cell_type": "markdown",
   "metadata": {},
   "source": [
    "![](images/0101.png)"
   ]
  },
  {
   "cell_type": "markdown",
   "metadata": {},
   "source": [
    "## Independence"
   ]
  },
  {
   "cell_type": "markdown",
   "metadata": {},
   "source": [
    "Two events are independent if knowing the outcome of one event does not affect the probability of the other event occurring. For such two events $A$ and $B$, the conditional probability is equal to the marginal probability:\n",
    "\n",
    "$$\n",
    "P(A|B) = P(A)\\\\\n",
    "P(B|A) = P(B)\n",
    "$$"
   ]
  },
  {
   "cell_type": "markdown",
   "metadata": {},
   "source": [
    "Also, using the relation for $P(A|B)$, we can derive that:\n",
    "\n",
    "$$\n",
    "P(A \\cap B) = P(A)P(B)\n",
    "$$"
   ]
  },
  {
   "cell_type": "markdown",
   "metadata": {},
   "source": [
    ">It’s clear, then, why it’s pretty convenient to have independent events: it means that you can just multiply marginal probabilities to get probabilities of intersections "
   ]
  }
 ],
 "metadata": {
  "kernelspec": {
   "display_name": "data-science",
   "language": "python",
   "name": "python3"
  },
  "language_info": {
   "codemirror_mode": {
    "name": "ipython",
    "version": 3
   },
   "file_extension": ".py",
   "mimetype": "text/x-python",
   "name": "python",
   "nbconvert_exporter": "python",
   "pygments_lexer": "ipython3",
   "version": "3.9.15"
  }
 },
 "nbformat": 4,
 "nbformat_minor": 2
}
